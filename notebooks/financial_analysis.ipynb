{
 "cells": [
  {
   "cell_type": "code",
   "execution_count": 1,
   "id": "36d33cd3",
   "metadata": {},
   "outputs": [
    {
     "name": "stdout",
     "output_type": "stream",
     "text": [
      "خلاصه داده‌ها:\n",
      "دپارتمان          فروش      فناوری    مارکتینگ        مالی    پشتیبانی\n",
      "نوع تراکنش                                                            \n",
      "درآمد       2784697.77  2232794.62  2332316.26  2133145.89  2839928.76\n",
      "هزینه       2435799.36  2863741.24  2890588.88  2027746.98  2703723.86\n",
      "\n",
      "گزارش مالی به تفکیک دپارتمان:\n",
      "نوع تراکنش        درآمد        هزینه          All\n",
      "دپارتمان                                         \n",
      "فروش         2784697.77   2435799.36   5220497.13\n",
      "فناوری       2232794.62   2863741.24   5096535.86\n",
      "مارکتینگ     2332316.26   2890588.88   5222905.14\n",
      "مالی         2133145.89   2027746.98   4160892.87\n",
      "پشتیبانی     2839928.76   2703723.86   5543652.62\n",
      "All         12322883.30  12921600.32  25244483.62\n"
     ]
    }
   ],
   "source": [
    "import pandas as pd\n",
    "\n",
    "# read data\n",
    "df = pd.read_csv('financial_data.csv')\n",
    "\n",
    "\n",
    "print(\"خلاصه داده‌ها:\")\n",
    "print(df.groupby(['نوع تراکنش', 'دپارتمان'])['مبلغ'].sum().unstack())\n",
    "\n",
    "\n",
    "report = df.pivot_table(\n",
    "    index='دپارتمان',\n",
    "    columns='نوع تراکنش',\n",
    "    values='مبلغ',\n",
    "    aggfunc='sum',\n",
    "    margins=True\n",
    ")\n",
    "print(\"\\nگزارش مالی به تفکیک دپارتمان:\")\n",
    "print(report)"
   ]
  }
 ],
 "metadata": {
  "kernelspec": {
   "display_name": "venv (3.12.3)",
   "language": "python",
   "name": "python3"
  },
  "language_info": {
   "codemirror_mode": {
    "name": "ipython",
    "version": 3
   },
   "file_extension": ".py",
   "mimetype": "text/x-python",
   "name": "python",
   "nbconvert_exporter": "python",
   "pygments_lexer": "ipython3",
   "version": "3.12.3"
  }
 },
 "nbformat": 4,
 "nbformat_minor": 5
}
