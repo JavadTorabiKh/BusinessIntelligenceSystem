{
 "cells": [
  {
   "cell_type": "code",
   "execution_count": 3,
   "id": "36d33cd3",
   "metadata": {},
   "outputs": [
    {
     "name": "stdout",
     "output_type": "stream",
     "text": [
      "Data Summary:\n",
      "Department     Finance          IT   Marketing       Sales     Support\n",
      "Type                                                                  \n",
      "Expense     2027746.98  2863741.24  2890588.88  2435799.36  2703723.86\n",
      "Revenue     2133145.89  2232794.62  2332316.26  2784697.77  2839928.76\n",
      "\n",
      "Financial Report by Department:\n",
      "Type            Expense      Revenue          All\n",
      "Department                                       \n",
      "Finance      2027746.98   2133145.89   4160892.87\n",
      "IT           2863741.24   2232794.62   5096535.86\n",
      "Marketing    2890588.88   2332316.26   5222905.14\n",
      "Sales        2435799.36   2784697.77   5220497.13\n",
      "Support      2703723.86   2839928.76   5543652.62\n",
      "All         12921600.32  12322883.30  25244483.62\n"
     ]
    }
   ],
   "source": [
    "import pandas as pd\n",
    "\n",
    "# Load data\n",
    "df = pd.read_csv('../data/financial_data.csv')\n",
    "\n",
    "# Quick analysis\n",
    "print(\"Data Summary:\")\n",
    "print(df.groupby(['Type', 'Department'])['Amount'].sum().unstack())\n",
    "\n",
    "# Create pivot table\n",
    "report = df.pivot_table(\n",
    "    index='Department',\n",
    "    columns='Type',\n",
    "    values='Amount',\n",
    "    aggfunc='sum',\n",
    "    margins=True\n",
    ")\n",
    "print(\"\\nFinancial Report by Department:\")\n",
    "print(report)"
   ]
  },
  {
   "cell_type": "code",
   "execution_count": null,
   "id": "7ec3e800",
   "metadata": {},
   "outputs": [],
   "source": []
  }
 ],
 "metadata": {
  "kernelspec": {
   "display_name": "venv (3.12.3)",
   "language": "python",
   "name": "python3"
  },
  "language_info": {
   "codemirror_mode": {
    "name": "ipython",
    "version": 3
   },
   "file_extension": ".py",
   "mimetype": "text/x-python",
   "name": "python",
   "nbconvert_exporter": "python",
   "pygments_lexer": "ipython3",
   "version": "3.12.3"
  }
 },
 "nbformat": 4,
 "nbformat_minor": 5
}
